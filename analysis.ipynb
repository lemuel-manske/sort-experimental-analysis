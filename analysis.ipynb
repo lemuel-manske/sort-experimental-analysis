{
  "nbformat": 4,
  "nbformat_minor": 0,
  "metadata": {
    "colab": {
      "provenance": [],
      "authorship_tag": "ABX9TyOWwfvvUzCI0fskPPhBjoeM"
    },
    "kernelspec": {
      "name": "python3",
      "display_name": "Python 3"
    },
    "language_info": {
      "name": "python"
    }
  },
  "cells": [
    {
      "cell_type": "code",
      "source": [
        "import pandas as pd\n",
        "import numpy as np\n",
        "import matplotlib.pyplot as plt"
      ],
      "metadata": {
        "id": "KLLvRAU0jye5"
      },
      "execution_count": 4,
      "outputs": []
    },
    {
      "cell_type": "code",
      "execution_count": 5,
      "metadata": {
        "id": "C7aMbjDWipRl"
      },
      "outputs": [],
      "source": [
        "df = pd.read_csv('/content/sample_data/index.csv')"
      ]
    },
    {
      "cell_type": "code",
      "source": [
        "df['algorithm'] = df['algorithm'].str.lower()\n",
        "\n",
        "grouped = df.groupby(['algorithm', 'n_elements'])\n",
        "stats_list = []\n",
        "\n",
        "def cv(x):\n",
        "    return np.std(x, ddof=1) / np.mean(x) if np.mean(x) != 0 else np.nan\n",
        "\n",
        "for (a, n), group in grouped:\n",
        "    ms_per_op = group['ms_per_op']\n",
        "\n",
        "    stats_list.append({\n",
        "        'algorithm': a,\n",
        "        'n_elements': n,\n",
        "        'mean_ms': np.mean(ms_per_op),\n",
        "        'std_ms': np.std(ms_per_op, ddof=1),\n",
        "        'cv': cv(ms_per_op),\n",
        "        'min_ms': np.min(ms_per_op),\n",
        "        'max_ms': np.max(ms_per_op)\n",
        "    })\n",
        "\n",
        "stats_df = pd.DataFrame(stats_list)\n",
        "\n",
        "print(stats_df)\n"
      ],
      "metadata": {
        "colab": {
          "base_uri": "https://localhost:8080/"
        },
        "id": "yj8-2_9Uj61N",
        "outputId": "c3dc58db-0df8-4c27-899a-bbcf2bd644d5"
      },
      "execution_count": 7,
      "outputs": [
        {
          "output_type": "stream",
          "name": "stdout",
          "text": [
            "    algorithm  n_elements     mean_ms       std_ms        cv     min_ms  \\\n",
            "0  bubblesort        1000      0.9307     0.039975  0.042952      0.861   \n",
            "1  bubblesort       10000     92.3897     5.263965  0.056976     83.768   \n",
            "2  bubblesort      100000  17953.0188  1031.293537  0.057444  16806.368   \n",
            "3   mergesort        1000      0.1228     0.002251  0.018330      0.119   \n",
            "4   mergesort       10000      1.5000     0.035311  0.023541      1.459   \n",
            "5   mergesort      100000     19.4765     0.300135  0.015410     19.188   \n",
            "6   quicksort        1000      0.0774     0.002066  0.026687      0.075   \n",
            "7   quicksort       10000      0.8427     0.017237  0.020455      0.815   \n",
            "8   quicksort      100000      9.9079     0.195882  0.019770      9.676   \n",
            "\n",
            "      max_ms  \n",
            "0      0.993  \n",
            "1    101.416  \n",
            "2  19440.392  \n",
            "3      0.126  \n",
            "4      1.575  \n",
            "5     20.135  \n",
            "6      0.081  \n",
            "7      0.870  \n",
            "8     10.310  \n"
          ]
        }
      ]
    }
  ]
}